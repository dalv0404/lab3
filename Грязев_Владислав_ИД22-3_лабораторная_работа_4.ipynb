{
 "cells": [
  {
   "cell_type": "markdown",
   "metadata": {},
   "source": [
    "# Форматы данных (1)"
   ]
  },
  {
   "cell_type": "markdown",
   "metadata": {},
   "source": [
    "Материалы:\n",
    "* Макрушин С.В. \"Лекция 4: Форматы данных\"\n",
    "* https://docs.python.org/3/library/json.html\n",
    "* https://docs.python.org/3/library/pickle.html\n",
    "* https://www.crummy.com/software/BeautifulSoup/bs4/doc.ru/bs4ru.html\n",
    "* Уэс Маккини. Python и анализ данных"
   ]
  },
  {
   "cell_type": "markdown",
   "metadata": {},
   "source": [
    "## Лабораторная работа №4"
   ]
  },
  {
   "cell_type": "markdown",
   "metadata": {},
   "source": [
    "### JSON"
   ]
  },
  {
   "cell_type": "markdown",
   "metadata": {},
   "source": [
    "1.1 Считайте файл `contributors_sample.json`. Воспользовавшись модулем `json`, преобразуйте содержимое файла в соответствующие объекты python. Выведите на экран информацию о первых 3 пользователях."
   ]
  },
  {
   "cell_type": "code",
   "execution_count": 17,
   "metadata": {},
   "outputs": [
    {
     "data": {
      "text/html": [
       "<div>\n",
       "<style scoped>\n",
       "    .dataframe tbody tr th:only-of-type {\n",
       "        vertical-align: middle;\n",
       "    }\n",
       "\n",
       "    .dataframe tbody tr th {\n",
       "        vertical-align: top;\n",
       "    }\n",
       "\n",
       "    .dataframe thead th {\n",
       "        text-align: right;\n",
       "    }\n",
       "</style>\n",
       "<table border=\"1\" class=\"dataframe\">\n",
       "  <thead>\n",
       "    <tr style=\"text-align: right;\">\n",
       "      <th></th>\n",
       "      <th>username</th>\n",
       "      <th>name</th>\n",
       "      <th>sex</th>\n",
       "      <th>address</th>\n",
       "      <th>mail</th>\n",
       "      <th>jobs</th>\n",
       "      <th>id</th>\n",
       "    </tr>\n",
       "  </thead>\n",
       "  <tbody>\n",
       "    <tr>\n",
       "      <th>0</th>\n",
       "      <td>uhebert</td>\n",
       "      <td>Lindsey Nguyen</td>\n",
       "      <td>F</td>\n",
       "      <td>01261 Cameron Spring\\nTaylorfurt, AK 97791</td>\n",
       "      <td>jsalazar@gmail.com</td>\n",
       "      <td>[Energy engineer, Engineer, site, Environmenta...</td>\n",
       "      <td>35193</td>\n",
       "    </tr>\n",
       "    <tr>\n",
       "      <th>1</th>\n",
       "      <td>vickitaylor</td>\n",
       "      <td>Cheryl Lewis</td>\n",
       "      <td>F</td>\n",
       "      <td>66992 Welch Brooks\\nMarshallshire, ID 56004</td>\n",
       "      <td>bhudson@gmail.com</td>\n",
       "      <td>[Music therapist, Volunteer coordinator, Desig...</td>\n",
       "      <td>91970</td>\n",
       "    </tr>\n",
       "    <tr>\n",
       "      <th>2</th>\n",
       "      <td>sheilaadams</td>\n",
       "      <td>Julia Allen</td>\n",
       "      <td>F</td>\n",
       "      <td>Unit 1632 Box 2971\\nDPO AE 23297</td>\n",
       "      <td>darren44@yahoo.com</td>\n",
       "      <td>[Management consultant, Engineer, structural, ...</td>\n",
       "      <td>1848091</td>\n",
       "    </tr>\n",
       "  </tbody>\n",
       "</table>\n",
       "</div>"
      ],
      "text/plain": [
       "      username            name sex  \\\n",
       "0      uhebert  Lindsey Nguyen   F   \n",
       "1  vickitaylor    Cheryl Lewis   F   \n",
       "2  sheilaadams     Julia Allen   F   \n",
       "\n",
       "                                       address                mail  \\\n",
       "0   01261 Cameron Spring\\nTaylorfurt, AK 97791  jsalazar@gmail.com   \n",
       "1  66992 Welch Brooks\\nMarshallshire, ID 56004   bhudson@gmail.com   \n",
       "2             Unit 1632 Box 2971\\nDPO AE 23297  darren44@yahoo.com   \n",
       "\n",
       "                                                jobs       id  \n",
       "0  [Energy engineer, Engineer, site, Environmenta...    35193  \n",
       "1  [Music therapist, Volunteer coordinator, Desig...    91970  \n",
       "2  [Management consultant, Engineer, structural, ...  1848091  "
      ]
     },
     "execution_count": 17,
     "metadata": {},
     "output_type": "execute_result"
    }
   ],
   "source": [
    "import json\n",
    "import pandas as pd\n",
    "with open('contributors_sample.json', 'r', encoding='utf-8') as f:\n",
    "    file = json.load(f)\n",
    "df=pd.DataFrame(file)\n",
    "df[:3]"
   ]
  },
  {
   "cell_type": "markdown",
   "metadata": {},
   "source": [
    "1.2 Выведите уникальные почтовые домены, содержащиеся в почтовых адресах людей"
   ]
  },
  {
   "cell_type": "code",
   "execution_count": 18,
   "metadata": {},
   "outputs": [
    {
     "data": {
      "text/plain": [
       "['@gmail.com', '@yahoo.com', '@hotmail.com']"
      ]
     },
     "execution_count": 18,
     "metadata": {},
     "output_type": "execute_result"
    }
   ],
   "source": [
    "lst_1 = list(df['mail'])\n",
    "lst_final = []\n",
    "for i in lst_1:\n",
    "    f = i[i.find('@'):]\n",
    "    if f not in lst_final:\n",
    "        lst_final.append(f)\n",
    "lst_final"
   ]
  },
  {
   "cell_type": "markdown",
   "metadata": {},
   "source": [
    "1.3 Напишите функцию, которая по `username` ищет человека и выводит информацию о нем. Если пользователь с заданным `username` отсутствует, возбудите исключение `ValueError`"
   ]
  },
  {
   "cell_type": "code",
   "execution_count": 20,
   "metadata": {},
   "outputs": [
    {
     "name": "stdout",
     "output_type": "stream",
     "text": [
      "vlad\n"
     ]
    },
    {
     "ename": "ValueError",
     "evalue": "",
     "output_type": "error",
     "traceback": [
      "\u001b[1;31m---------------------------------------------------------------------------\u001b[0m",
      "\u001b[1;31mValueError\u001b[0m                                Traceback (most recent call last)",
      "\u001b[1;32m~\\AppData\\Local\\Temp\\ipykernel_11988\\1460095522.py\u001b[0m in \u001b[0;36m<module>\u001b[1;34m\u001b[0m\n\u001b[0;32m      6\u001b[0m     \u001b[1;32melse\u001b[0m\u001b[1;33m:\u001b[0m\u001b[1;33m\u001b[0m\u001b[1;33m\u001b[0m\u001b[0m\n\u001b[0;32m      7\u001b[0m         \u001b[1;32mraise\u001b[0m \u001b[0mValueError\u001b[0m\u001b[1;33m\u001b[0m\u001b[1;33m\u001b[0m\u001b[0m\n\u001b[1;32m----> 8\u001b[1;33m \u001b[0mfind_user\u001b[0m\u001b[1;33m(\u001b[0m\u001b[0musername\u001b[0m\u001b[1;33m)\u001b[0m\u001b[1;33m\u001b[0m\u001b[1;33m\u001b[0m\u001b[0m\n\u001b[0m",
      "\u001b[1;32m~\\AppData\\Local\\Temp\\ipykernel_11988\\1460095522.py\u001b[0m in \u001b[0;36mfind_user\u001b[1;34m(username)\u001b[0m\n\u001b[0;32m      5\u001b[0m         \u001b[0mprint\u001b[0m\u001b[1;33m(\u001b[0m\u001b[0mf\u001b[0m\u001b[1;33m)\u001b[0m\u001b[1;33m\u001b[0m\u001b[1;33m\u001b[0m\u001b[0m\n\u001b[0;32m      6\u001b[0m     \u001b[1;32melse\u001b[0m\u001b[1;33m:\u001b[0m\u001b[1;33m\u001b[0m\u001b[1;33m\u001b[0m\u001b[0m\n\u001b[1;32m----> 7\u001b[1;33m         \u001b[1;32mraise\u001b[0m \u001b[0mValueError\u001b[0m\u001b[1;33m\u001b[0m\u001b[1;33m\u001b[0m\u001b[0m\n\u001b[0m\u001b[0;32m      8\u001b[0m \u001b[0mfind_user\u001b[0m\u001b[1;33m(\u001b[0m\u001b[0musername\u001b[0m\u001b[1;33m)\u001b[0m\u001b[1;33m\u001b[0m\u001b[1;33m\u001b[0m\u001b[0m\n",
      "\u001b[1;31mValueError\u001b[0m: "
     ]
    }
   ],
   "source": [
    "username = str(input(''))\n",
    "def find_user(username):\n",
    "    f = df[df['username'] == username]\n",
    "    if not f.empty:\n",
    "        print(f)\n",
    "    else:\n",
    "        raise ValueError\n",
    "find_user(username)"
   ]
  },
  {
   "cell_type": "markdown",
   "metadata": {},
   "source": [
    "1.4 Посчитайте, сколько мужчин и женщин присутсвует в этом наборе данных."
   ]
  },
  {
   "cell_type": "code",
   "execution_count": 21,
   "metadata": {},
   "outputs": [
    {
     "name": "stdout",
     "output_type": "stream",
     "text": [
      "Количество женщин: 2064. Количество мужчин: 2136\n"
     ]
    }
   ],
   "source": [
    "men = 0\n",
    "women = 0\n",
    "count_1 = list(df['sex'])\n",
    "men = count_1.count('F')\n",
    "women = count_1.count('M') \n",
    "print(f'Количество женщин: {women}. Количество мужчин: {men}')"
   ]
  },
  {
   "cell_type": "markdown",
   "metadata": {},
   "source": [
    "1.5 Создайте `pd.DataFrame` `contributors`, имеющий столбцы `id`, `username` и `sex`."
   ]
  },
  {
   "cell_type": "code",
   "execution_count": 22,
   "metadata": {},
   "outputs": [
    {
     "name": "stdout",
     "output_type": "stream",
     "text": [
      "           id       username sex\n",
      "0       35193        uhebert   F\n",
      "1       91970    vickitaylor   F\n",
      "2     1848091    sheilaadams   F\n",
      "3       50969       nicole82   F\n",
      "4      676820         jean67   M\n",
      "...       ...            ...  ..\n",
      "4195   423555  stevenspencer   F\n",
      "4196    35251      rwilliams   M\n",
      "4197   135887      lmartinez   F\n",
      "4198   212714     brendahill   M\n",
      "4199   344321       mistyray   F\n",
      "\n",
      "[4200 rows x 3 columns]\n"
     ]
    }
   ],
   "source": [
    "file_1 = pd.DataFrame(file) \n",
    "file_1 = file_1[['id', 'username', 'sex']]\n",
    "print(file_1)"
   ]
  },
  {
   "cell_type": "markdown",
   "metadata": {},
   "source": [
    "1.6 Загрузите данные из файла `recipes_sample.csv` (__ЛР2__) в таблицу `recipes`. Объедините `recipes` с таблицей `contributors` с сохранением строк в том случае, если информация о человеке отсутствует в JSON-файле. Для скольких человек информация отсутствует? "
   ]
  },
  {
   "cell_type": "code",
   "execution_count": 23,
   "metadata": {},
   "outputs": [
    {
     "name": "stdout",
     "output_type": "stream",
     "text": [
      "для 29830 человек информация отсутствует\n"
     ]
    },
    {
     "data": {
      "text/html": [
       "<div>\n",
       "<style scoped>\n",
       "    .dataframe tbody tr th:only-of-type {\n",
       "        vertical-align: middle;\n",
       "    }\n",
       "\n",
       "    .dataframe tbody tr th {\n",
       "        vertical-align: top;\n",
       "    }\n",
       "\n",
       "    .dataframe thead th {\n",
       "        text-align: right;\n",
       "    }\n",
       "</style>\n",
       "<table border=\"1\" class=\"dataframe\">\n",
       "  <thead>\n",
       "    <tr style=\"text-align: right;\">\n",
       "      <th></th>\n",
       "      <th>name</th>\n",
       "      <th>id</th>\n",
       "      <th>minutes</th>\n",
       "      <th>contributor_id</th>\n",
       "      <th>submitted</th>\n",
       "      <th>n_steps</th>\n",
       "      <th>description</th>\n",
       "      <th>n_ingredients</th>\n",
       "      <th>username</th>\n",
       "      <th>sex</th>\n",
       "    </tr>\n",
       "  </thead>\n",
       "  <tbody>\n",
       "    <tr>\n",
       "      <th>0</th>\n",
       "      <td>george s at the cove  black bean soup</td>\n",
       "      <td>44123</td>\n",
       "      <td>90.0</td>\n",
       "      <td>35193.0</td>\n",
       "      <td>2002-10-25</td>\n",
       "      <td>NaN</td>\n",
       "      <td>an original recipe created by chef scott meska...</td>\n",
       "      <td>18.0</td>\n",
       "      <td>NaN</td>\n",
       "      <td>NaN</td>\n",
       "    </tr>\n",
       "    <tr>\n",
       "      <th>1</th>\n",
       "      <td>healthy for them  yogurt popsicles</td>\n",
       "      <td>67664</td>\n",
       "      <td>10.0</td>\n",
       "      <td>91970.0</td>\n",
       "      <td>2003-07-26</td>\n",
       "      <td>NaN</td>\n",
       "      <td>my children and their friends ask for my homem...</td>\n",
       "      <td>NaN</td>\n",
       "      <td>NaN</td>\n",
       "      <td>NaN</td>\n",
       "    </tr>\n",
       "    <tr>\n",
       "      <th>2</th>\n",
       "      <td>i can t believe it s spinach</td>\n",
       "      <td>38798</td>\n",
       "      <td>30.0</td>\n",
       "      <td>1533.0</td>\n",
       "      <td>2002-08-29</td>\n",
       "      <td>NaN</td>\n",
       "      <td>these were so go, it surprised even me.</td>\n",
       "      <td>8.0</td>\n",
       "      <td>NaN</td>\n",
       "      <td>NaN</td>\n",
       "    </tr>\n",
       "    <tr>\n",
       "      <th>3</th>\n",
       "      <td>italian  gut busters</td>\n",
       "      <td>35173</td>\n",
       "      <td>45.0</td>\n",
       "      <td>22724.0</td>\n",
       "      <td>2002-07-27</td>\n",
       "      <td>NaN</td>\n",
       "      <td>my sister-in-law made these for us at a family...</td>\n",
       "      <td>NaN</td>\n",
       "      <td>NaN</td>\n",
       "      <td>NaN</td>\n",
       "    </tr>\n",
       "    <tr>\n",
       "      <th>4</th>\n",
       "      <td>love is in the air  beef fondue   sauces</td>\n",
       "      <td>84797</td>\n",
       "      <td>25.0</td>\n",
       "      <td>4470.0</td>\n",
       "      <td>2004-02-23</td>\n",
       "      <td>4.0</td>\n",
       "      <td>i think a fondue is a very romantic casual din...</td>\n",
       "      <td>NaN</td>\n",
       "      <td>NaN</td>\n",
       "      <td>NaN</td>\n",
       "    </tr>\n",
       "    <tr>\n",
       "      <th>...</th>\n",
       "      <td>...</td>\n",
       "      <td>...</td>\n",
       "      <td>...</td>\n",
       "      <td>...</td>\n",
       "      <td>...</td>\n",
       "      <td>...</td>\n",
       "      <td>...</td>\n",
       "      <td>...</td>\n",
       "      <td>...</td>\n",
       "      <td>...</td>\n",
       "    </tr>\n",
       "    <tr>\n",
       "      <th>34025</th>\n",
       "      <td>NaN</td>\n",
       "      <td>423555</td>\n",
       "      <td>NaN</td>\n",
       "      <td>NaN</td>\n",
       "      <td>NaN</td>\n",
       "      <td>NaN</td>\n",
       "      <td>NaN</td>\n",
       "      <td>NaN</td>\n",
       "      <td>stevenspencer</td>\n",
       "      <td>F</td>\n",
       "    </tr>\n",
       "    <tr>\n",
       "      <th>34026</th>\n",
       "      <td>NaN</td>\n",
       "      <td>35251</td>\n",
       "      <td>NaN</td>\n",
       "      <td>NaN</td>\n",
       "      <td>NaN</td>\n",
       "      <td>NaN</td>\n",
       "      <td>NaN</td>\n",
       "      <td>NaN</td>\n",
       "      <td>rwilliams</td>\n",
       "      <td>M</td>\n",
       "    </tr>\n",
       "    <tr>\n",
       "      <th>34027</th>\n",
       "      <td>NaN</td>\n",
       "      <td>135887</td>\n",
       "      <td>NaN</td>\n",
       "      <td>NaN</td>\n",
       "      <td>NaN</td>\n",
       "      <td>NaN</td>\n",
       "      <td>NaN</td>\n",
       "      <td>NaN</td>\n",
       "      <td>lmartinez</td>\n",
       "      <td>F</td>\n",
       "    </tr>\n",
       "    <tr>\n",
       "      <th>34028</th>\n",
       "      <td>NaN</td>\n",
       "      <td>212714</td>\n",
       "      <td>NaN</td>\n",
       "      <td>NaN</td>\n",
       "      <td>NaN</td>\n",
       "      <td>NaN</td>\n",
       "      <td>NaN</td>\n",
       "      <td>NaN</td>\n",
       "      <td>brendahill</td>\n",
       "      <td>M</td>\n",
       "    </tr>\n",
       "    <tr>\n",
       "      <th>34029</th>\n",
       "      <td>NaN</td>\n",
       "      <td>344321</td>\n",
       "      <td>NaN</td>\n",
       "      <td>NaN</td>\n",
       "      <td>NaN</td>\n",
       "      <td>NaN</td>\n",
       "      <td>NaN</td>\n",
       "      <td>NaN</td>\n",
       "      <td>mistyray</td>\n",
       "      <td>F</td>\n",
       "    </tr>\n",
       "  </tbody>\n",
       "</table>\n",
       "<p>34030 rows × 10 columns</p>\n",
       "</div>"
      ],
      "text/plain": [
       "                                           name      id  minutes  \\\n",
       "0         george s at the cove  black bean soup   44123     90.0   \n",
       "1            healthy for them  yogurt popsicles   67664     10.0   \n",
       "2                  i can t believe it s spinach   38798     30.0   \n",
       "3                          italian  gut busters   35173     45.0   \n",
       "4      love is in the air  beef fondue   sauces   84797     25.0   \n",
       "...                                         ...     ...      ...   \n",
       "34025                                       NaN  423555      NaN   \n",
       "34026                                       NaN   35251      NaN   \n",
       "34027                                       NaN  135887      NaN   \n",
       "34028                                       NaN  212714      NaN   \n",
       "34029                                       NaN  344321      NaN   \n",
       "\n",
       "       contributor_id   submitted  n_steps  \\\n",
       "0             35193.0  2002-10-25      NaN   \n",
       "1             91970.0  2003-07-26      NaN   \n",
       "2              1533.0  2002-08-29      NaN   \n",
       "3             22724.0  2002-07-27      NaN   \n",
       "4              4470.0  2004-02-23      4.0   \n",
       "...               ...         ...      ...   \n",
       "34025             NaN         NaN      NaN   \n",
       "34026             NaN         NaN      NaN   \n",
       "34027             NaN         NaN      NaN   \n",
       "34028             NaN         NaN      NaN   \n",
       "34029             NaN         NaN      NaN   \n",
       "\n",
       "                                             description  n_ingredients  \\\n",
       "0      an original recipe created by chef scott meska...           18.0   \n",
       "1      my children and their friends ask for my homem...            NaN   \n",
       "2                these were so go, it surprised even me.            8.0   \n",
       "3      my sister-in-law made these for us at a family...            NaN   \n",
       "4      i think a fondue is a very romantic casual din...            NaN   \n",
       "...                                                  ...            ...   \n",
       "34025                                                NaN            NaN   \n",
       "34026                                                NaN            NaN   \n",
       "34027                                                NaN            NaN   \n",
       "34028                                                NaN            NaN   \n",
       "34029                                                NaN            NaN   \n",
       "\n",
       "            username  sex  \n",
       "0                NaN  NaN  \n",
       "1                NaN  NaN  \n",
       "2                NaN  NaN  \n",
       "3                NaN  NaN  \n",
       "4                NaN  NaN  \n",
       "...              ...  ...  \n",
       "34025  stevenspencer    F  \n",
       "34026      rwilliams    M  \n",
       "34027      lmartinez    F  \n",
       "34028     brendahill    M  \n",
       "34029       mistyray    F  \n",
       "\n",
       "[34030 rows x 10 columns]"
      ]
     },
     "execution_count": 23,
     "metadata": {},
     "output_type": "execute_result"
    }
   ],
   "source": [
    "recipes = pd.read_csv('recipes_sample.csv') \n",
    "df_comb = pd.merge(recipes,file_1,how='outer') \n",
    "print(f\"для {df_comb[df_comb['username'].isna()].shape[0]} человек информация отсутствует\") \n",
    "df_comb"
   ]
  },
  {
   "cell_type": "markdown",
   "metadata": {},
   "source": [
    "### pickle"
   ]
  },
  {
   "cell_type": "markdown",
   "metadata": {},
   "source": [
    "2.1 На основе файла `contributors_sample.json` создайте словарь следующего вида: \n",
    "```\n",
    "{\n",
    "    должность: [список username людей, занимавших эту должность]\n",
    "}\n",
    "```"
   ]
  },
  {
   "cell_type": "code",
   "execution_count": 29,
   "metadata": {},
   "outputs": [],
   "source": [
    "dct_2 = {}\n",
    "for us in file:\n",
    "    for jb in us['jobs']:\n",
    "        if jb not in dct_2:\n",
    "            dct_2[jb] = [us['username']]\n",
    "        else:\n",
    "            dct_2[jb] = [*dct_2[jb], us['username']]\n",
    "##dct_2"
   ]
  },
  {
   "cell_type": "markdown",
   "metadata": {},
   "source": [
    "2.2 Сохраните результаты в файл `job_people.pickle` и в файл `job_people.json` с использованием форматов pickle и JSON соответственно. Сравните объемы получившихся файлов. При сохранении в JSON укажите аргумент `indent`."
   ]
  },
  {
   "cell_type": "code",
   "execution_count": 30,
   "metadata": {},
   "outputs": [],
   "source": [
    "import pickle\n",
    "with open('job_people.pickle', 'wb') as f:\n",
    "    pickle.dump(dct_2, f)\n",
    "    \n",
    "with open('job_people.json', 'w') as f: \n",
    "    json.dump(dct_2, f, indent=2)"
   ]
  },
  {
   "cell_type": "markdown",
   "metadata": {},
   "source": [
    "2.3 Считайте файл `job_people.pickle` и продемонстрируйте, что данные считались корректно. "
   ]
  },
  {
   "cell_type": "code",
   "execution_count": 31,
   "metadata": {},
   "outputs": [],
   "source": [
    "with open('job_people.pickle', 'rb') as f:\n",
    "    file_2 = pickle.load(f)\n",
    "##file_2"
   ]
  },
  {
   "cell_type": "markdown",
   "metadata": {},
   "source": [
    "### XML"
   ]
  },
  {
   "cell_type": "markdown",
   "metadata": {},
   "source": [
    "3.1 По данным файла `steps_sample.xml` сформируйте словарь с шагами по каждому рецепту вида `{id_рецепта: [\"шаг1\", \"шаг2\"]}`. Сохраните этот словарь в файл `steps_sample.json`"
   ]
  },
  {
   "cell_type": "code",
   "execution_count": 32,
   "metadata": {},
   "outputs": [],
   "source": [
    "from bs4 import BeautifulSoup\n",
    "with open('.\\\\steps_sample.xml') as f:\n",
    "    file = BeautifulSoup(f, 'xml')\n",
    "idd=file.find_all('id')\n",
    "steps=file.find_all('steps')\n",
    "dct_3={}\n",
    "for i in range(len(idd)):\n",
    "    dct_3[idd[i].getText(strip=True)]=(steps[i].getText(',',strip=True)).split(',')\n",
    "dct_3\n",
    "with open(\"steps_sample.json\", \"w\") as f_1:\n",
    "    json.dump(dct_3, f_1)"
   ]
  },
  {
   "cell_type": "markdown",
   "metadata": {},
   "source": [
    "3.2 По данным файла `steps_sample.xml` сформируйте словарь следующего вида: `кол-во_шагов_в_рецепте: [список_id_рецептов]`"
   ]
  },
  {
   "cell_type": "code",
   "execution_count": 33,
   "metadata": {},
   "outputs": [
    {
     "ename": "TypeError",
     "evalue": "'builtin_function_or_method' object is not subscriptable",
     "output_type": "error",
     "traceback": [
      "\u001b[1;31m---------------------------------------------------------------------------\u001b[0m",
      "\u001b[1;31mTypeError\u001b[0m                                 Traceback (most recent call last)",
      "\u001b[1;32m~\\AppData\\Local\\Temp\\ipykernel_11988\\1401455144.py\u001b[0m in \u001b[0;36m<module>\u001b[1;34m\u001b[0m\n\u001b[0;32m      2\u001b[0m \u001b[1;32mfor\u001b[0m \u001b[0mj\u001b[0m \u001b[1;32min\u001b[0m \u001b[0mrange\u001b[0m\u001b[1;33m(\u001b[0m\u001b[0mlen\u001b[0m\u001b[1;33m(\u001b[0m\u001b[0msteps\u001b[0m\u001b[1;33m)\u001b[0m\u001b[1;33m)\u001b[0m\u001b[1;33m:\u001b[0m\u001b[1;33m\u001b[0m\u001b[1;33m\u001b[0m\u001b[0m\n\u001b[0;32m      3\u001b[0m     \u001b[1;32mif\u001b[0m \u001b[1;33m(\u001b[0m\u001b[0mlen\u001b[0m\u001b[1;33m(\u001b[0m\u001b[0msteps\u001b[0m\u001b[1;33m[\u001b[0m\u001b[0mj\u001b[0m\u001b[1;33m]\u001b[0m\u001b[1;33m)\u001b[0m\u001b[1;33m)\u001b[0m \u001b[1;32mnot\u001b[0m \u001b[1;32min\u001b[0m \u001b[0mdct_4\u001b[0m\u001b[1;33m:\u001b[0m\u001b[1;33m\u001b[0m\u001b[1;33m\u001b[0m\u001b[0m\n\u001b[1;32m----> 4\u001b[1;33m         \u001b[0mdct_4\u001b[0m\u001b[1;33m[\u001b[0m\u001b[0mlen\u001b[0m\u001b[1;33m(\u001b[0m\u001b[0msteps\u001b[0m\u001b[1;33m[\u001b[0m\u001b[0mj\u001b[0m\u001b[1;33m]\u001b[0m\u001b[1;33m)\u001b[0m\u001b[1;33m]\u001b[0m\u001b[1;33m=\u001b[0m\u001b[1;33m[\u001b[0m\u001b[0mid\u001b[0m\u001b[1;33m[\u001b[0m\u001b[0mj\u001b[0m\u001b[1;33m]\u001b[0m\u001b[1;33m.\u001b[0m\u001b[0mgetText\u001b[0m\u001b[1;33m(\u001b[0m\u001b[0mstrip\u001b[0m\u001b[1;33m=\u001b[0m\u001b[1;32mTrue\u001b[0m\u001b[1;33m)\u001b[0m\u001b[1;33m]\u001b[0m\u001b[1;33m\u001b[0m\u001b[1;33m\u001b[0m\u001b[0m\n\u001b[0m\u001b[0;32m      5\u001b[0m     \u001b[1;32melse\u001b[0m\u001b[1;33m:\u001b[0m\u001b[1;33m\u001b[0m\u001b[1;33m\u001b[0m\u001b[0m\n\u001b[0;32m      6\u001b[0m          \u001b[0mdct_4\u001b[0m\u001b[1;33m[\u001b[0m\u001b[0mlen\u001b[0m\u001b[1;33m(\u001b[0m\u001b[0msteps\u001b[0m\u001b[1;33m[\u001b[0m\u001b[0mj\u001b[0m\u001b[1;33m]\u001b[0m\u001b[1;33m)\u001b[0m\u001b[1;33m]\u001b[0m\u001b[1;33m.\u001b[0m\u001b[0mappend\u001b[0m\u001b[1;33m(\u001b[0m\u001b[0mid\u001b[0m\u001b[1;33m[\u001b[0m\u001b[0mj\u001b[0m\u001b[1;33m]\u001b[0m\u001b[1;33m.\u001b[0m\u001b[0mgetText\u001b[0m\u001b[1;33m(\u001b[0m\u001b[0mstrip\u001b[0m\u001b[1;33m=\u001b[0m\u001b[1;32mTrue\u001b[0m\u001b[1;33m)\u001b[0m\u001b[1;33m)\u001b[0m\u001b[1;33m\u001b[0m\u001b[1;33m\u001b[0m\u001b[0m\n",
      "\u001b[1;31mTypeError\u001b[0m: 'builtin_function_or_method' object is not subscriptable"
     ]
    }
   ],
   "source": [
    "dct_4={}\n",
    "for j in range(len(steps)):\n",
    "    if (len(steps[j])) not in dct_4:\n",
    "        dct_4[len(steps[j])]=[id[j].getText(strip=True)]\n",
    "    else:\n",
    "         dct_4[len(steps[j])].append(id[j].getText(strip=True))\n",
    "        \n",
    "dct_4"
   ]
  },
  {
   "cell_type": "markdown",
   "metadata": {},
   "source": [
    "3.3 Получите список рецептов, в этапах выполнения которых есть информация о времени (часы или минуты). Для отбора подходящих рецептов обратите внимание на атрибуты соответствующих тэгов."
   ]
  },
  {
   "cell_type": "code",
   "execution_count": null,
   "metadata": {},
   "outputs": [],
   "source": [
    "for index in file.find_all(\"recipe\"): \n",
    "    try:\n",
    "        print(f'Рецепт с id - {index.id.text}. Время приготовления в минутах: {index.step[\"has_minutes\"]}') \n",
    "    except:\n",
    "        pass\n",
    "    try:\n",
    "        print(f'Рецепт с id - {index.id.text}. Время приготовления в часах: {index.step[\"has_hours\"]} ') \n",
    "\n",
    "    except:\n",
    "        pass"
   ]
  },
  {
   "cell_type": "markdown",
   "metadata": {},
   "source": [
    "3.4 Загрузите данные из файла `recipes_sample.csv` (__ЛР2__) в таблицу `recipes`. Для строк, которые содержат пропуски в столбце `n_steps`, заполните этот столбец на основе файла  `steps_sample.xml`. Строки, в которых столбец `n_steps` заполнен, оставьте без изменений."
   ]
  },
  {
   "cell_type": "code",
   "execution_count": null,
   "metadata": {},
   "outputs": [],
   "source": [
    "dct = {'id':[],'n_steps':[]}\n",
    "for r in file.find_all('recipe'):\n",
    "    dct['id'].append(int(r.id.text))\n",
    "    dct['n_steps'].append(len(r.find_all('step')))\n",
    "df=pd.DataFrame(dct)\n",
    "df.n_steps=df.n_steps.astype('float64')\n",
    "##df\n",
    "recipes = pd.read_csv('recipes_sample.csv')\n",
    "recipes = pd.DataFrame(recipes)\n",
    "dct_5 = pd.merge(recipes,df,on='id')\n",
    "dct_5['n_steps'] = dct_5['n_steps_y']\n",
    "dct_5 = dct_5.drop('n_steps_x',axis=1)\n",
    "dct_5 = dct_5.drop('n_steps_y',axis=1)\n",
    "##dct_5"
   ]
  },
  {
   "cell_type": "markdown",
   "metadata": {},
   "source": [
    "3.5 Проверьте, содержит ли столбец `n_steps` пропуски. Если нет, то преобразуйте его к целочисленному типу и сохраните результаты в файл `recipes_sample_with_filled_nsteps.csv`"
   ]
  },
  {
   "cell_type": "code",
   "execution_count": null,
   "metadata": {},
   "outputs": [],
   "source": [
    "print((dct_5[dct_5['n_steps'].isna()==True]).size)\n",
    "dct_5.n_steps = dct_5.n_steps.astype(int)\n",
    "\n",
    "dct_5.to_csv('recipes_sample_with_filled_nsteps.csv', encoding='utf-8')\n",
    "dct_5"
   ]
  }
 ],
 "metadata": {
  "kernelspec": {
   "display_name": "Python 3 (ipykernel)",
   "language": "python",
   "name": "python3"
  },
  "language_info": {
   "codemirror_mode": {
    "name": "ipython",
    "version": 3
   },
   "file_extension": ".py",
   "mimetype": "text/x-python",
   "name": "python",
   "nbconvert_exporter": "python",
   "pygments_lexer": "ipython3",
   "version": "3.9.13"
  }
 },
 "nbformat": 4,
 "nbformat_minor": 4
}
